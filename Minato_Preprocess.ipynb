{
 "cells": [
  {
   "cell_type": "code",
   "execution_count": 21,
   "metadata": {},
   "outputs": [],
   "source": [
    "import pandas as pd\n",
    "import re\n",
    "import numpy as np"
   ]
  },
  {
   "cell_type": "code",
   "execution_count": 22,
   "metadata": {},
   "outputs": [
    {
     "name": "stdout",
     "output_type": "stream",
     "text": [
      "<class 'pandas.core.frame.DataFrame'>\n",
      "Int64Index: 1253 entries, 0 to 1252\n",
      "Data columns (total 14 columns):\n",
      "新着      0 non-null float64\n",
      "物件名     1253 non-null object\n",
      "住所      1253 non-null object\n",
      "立地1     1253 non-null object\n",
      "立地2     1250 non-null object\n",
      "立地3     1240 non-null object\n",
      "築年数     1253 non-null object\n",
      "階数      1253 non-null object\n",
      "物件階     1253 non-null object\n",
      "家賃      1253 non-null object\n",
      "管理費     1253 non-null object\n",
      "敷金礼金    1253 non-null object\n",
      "間取り     1253 non-null object\n",
      "面積      1253 non-null object\n",
      "dtypes: float64(1), object(13)\n",
      "memory usage: 146.8+ KB\n"
     ]
    }
   ],
   "source": [
    "df = pd.read_csv('data/suumo_minato.csv', sep=',', index_col=0)\n",
    "df.info()"
   ]
  },
  {
   "cell_type": "code",
   "execution_count": 38,
   "metadata": {},
   "outputs": [
    {
     "data": {
      "text/html": [
       "<div>\n",
       "<style scoped>\n",
       "    .dataframe tbody tr th:only-of-type {\n",
       "        vertical-align: middle;\n",
       "    }\n",
       "\n",
       "    .dataframe tbody tr th {\n",
       "        vertical-align: top;\n",
       "    }\n",
       "\n",
       "    .dataframe thead th {\n",
       "        text-align: right;\n",
       "    }\n",
       "</style>\n",
       "<table border=\"1\" class=\"dataframe\">\n",
       "  <thead>\n",
       "    <tr style=\"text-align: right;\">\n",
       "      <th></th>\n",
       "      <th>新着</th>\n",
       "      <th>物件名</th>\n",
       "      <th>住所</th>\n",
       "      <th>立地1</th>\n",
       "      <th>立地2</th>\n",
       "      <th>立地3</th>\n",
       "      <th>築年数</th>\n",
       "      <th>階数</th>\n",
       "      <th>物件階</th>\n",
       "      <th>家賃</th>\n",
       "      <th>管理費</th>\n",
       "      <th>敷金礼金</th>\n",
       "      <th>間取り</th>\n",
       "      <th>面積</th>\n",
       "      <th>都県</th>\n",
       "      <th>市区</th>\n",
       "      <th>家賃合計</th>\n",
       "      <th>家賃単価（円/平米）</th>\n",
       "    </tr>\n",
       "  </thead>\n",
       "  <tbody>\n",
       "    <tr>\n",
       "      <th>0</th>\n",
       "      <td>NaN</td>\n",
       "      <td>グランクルール武蔵小山</td>\n",
       "      <td>東京都品川区小山３</td>\n",
       "      <td>東急目黒線/武蔵小山駅 歩5分</td>\n",
       "      <td>東急池上線/戸越銀座駅 歩13分</td>\n",
       "      <td>東急目黒線/不動前駅 歩13分</td>\n",
       "      <td>3</td>\n",
       "      <td>4階建</td>\n",
       "      <td>3階</td>\n",
       "      <td>87000</td>\n",
       "      <td>12000.0</td>\n",
       "      <td>-/-</td>\n",
       "      <td>1K</td>\n",
       "      <td>21.50</td>\n",
       "      <td>東京</td>\n",
       "      <td>品川</td>\n",
       "      <td>99000.0</td>\n",
       "      <td>4604.651163</td>\n",
       "    </tr>\n",
       "    <tr>\n",
       "      <th>1</th>\n",
       "      <td>NaN</td>\n",
       "      <td>グランクルール武蔵小山</td>\n",
       "      <td>東京都品川区小山３</td>\n",
       "      <td>東急目黒線/武蔵小山駅 歩5分</td>\n",
       "      <td>東急池上線/戸越銀座駅 歩13分</td>\n",
       "      <td>東急目黒線/不動前駅 歩13分</td>\n",
       "      <td>3</td>\n",
       "      <td>4階建</td>\n",
       "      <td>3階</td>\n",
       "      <td>97000</td>\n",
       "      <td>12000.0</td>\n",
       "      <td>-/-</td>\n",
       "      <td>ワンルーム</td>\n",
       "      <td>21.50</td>\n",
       "      <td>東京</td>\n",
       "      <td>品川</td>\n",
       "      <td>109000.0</td>\n",
       "      <td>5069.767442</td>\n",
       "    </tr>\n",
       "    <tr>\n",
       "      <th>2</th>\n",
       "      <td>NaN</td>\n",
       "      <td>グランクルール武蔵小山</td>\n",
       "      <td>東京都品川区小山３</td>\n",
       "      <td>東急目黒線/武蔵小山駅 歩5分</td>\n",
       "      <td>東急池上線/戸越銀座駅 歩13分</td>\n",
       "      <td>東急目黒線/不動前駅 歩13分</td>\n",
       "      <td>3</td>\n",
       "      <td>4階建</td>\n",
       "      <td>3階</td>\n",
       "      <td>97000</td>\n",
       "      <td>12000.0</td>\n",
       "      <td>-/-</td>\n",
       "      <td>ワンルーム</td>\n",
       "      <td>21.50</td>\n",
       "      <td>東京</td>\n",
       "      <td>品川</td>\n",
       "      <td>109000.0</td>\n",
       "      <td>5069.767442</td>\n",
       "    </tr>\n",
       "    <tr>\n",
       "      <th>3</th>\n",
       "      <td>NaN</td>\n",
       "      <td>カスタリア大井町</td>\n",
       "      <td>東京都品川区大井４</td>\n",
       "      <td>ＪＲ京浜東北線/大井町駅 歩4分</td>\n",
       "      <td>京急本線/鮫洲駅 歩14分</td>\n",
       "      <td>ＪＲ横須賀線/西大井駅 歩15分</td>\n",
       "      <td>8</td>\n",
       "      <td>14階建</td>\n",
       "      <td>14階</td>\n",
       "      <td>97000</td>\n",
       "      <td>8000.0</td>\n",
       "      <td>9.7万円/9.7万円</td>\n",
       "      <td>1K</td>\n",
       "      <td>21.75</td>\n",
       "      <td>東京</td>\n",
       "      <td>品川</td>\n",
       "      <td>105000.0</td>\n",
       "      <td>4827.586207</td>\n",
       "    </tr>\n",
       "    <tr>\n",
       "      <th>4</th>\n",
       "      <td>NaN</td>\n",
       "      <td>カスタリア大井町</td>\n",
       "      <td>東京都品川区大井４</td>\n",
       "      <td>ＪＲ京浜東北線/大井町駅 歩4分</td>\n",
       "      <td>京急本線/鮫洲駅 歩14分</td>\n",
       "      <td>ＪＲ横須賀線/西大井駅 歩15分</td>\n",
       "      <td>8</td>\n",
       "      <td>14階建</td>\n",
       "      <td>11階</td>\n",
       "      <td>98000</td>\n",
       "      <td>8000.0</td>\n",
       "      <td>19.6万円/9.8万円</td>\n",
       "      <td>1K</td>\n",
       "      <td>21.75</td>\n",
       "      <td>東京</td>\n",
       "      <td>品川</td>\n",
       "      <td>106000.0</td>\n",
       "      <td>4873.563218</td>\n",
       "    </tr>\n",
       "  </tbody>\n",
       "</table>\n",
       "</div>"
      ],
      "text/plain": [
       "   新着          物件名         住所               立地1               立地2  \\\n",
       "0 NaN  グランクルール武蔵小山  東京都品川区小山３   東急目黒線/武蔵小山駅 歩5分  東急池上線/戸越銀座駅 歩13分   \n",
       "1 NaN  グランクルール武蔵小山  東京都品川区小山３   東急目黒線/武蔵小山駅 歩5分  東急池上線/戸越銀座駅 歩13分   \n",
       "2 NaN  グランクルール武蔵小山  東京都品川区小山３   東急目黒線/武蔵小山駅 歩5分  東急池上線/戸越銀座駅 歩13分   \n",
       "3 NaN     カスタリア大井町  東京都品川区大井４  ＪＲ京浜東北線/大井町駅 歩4分     京急本線/鮫洲駅 歩14分   \n",
       "4 NaN     カスタリア大井町  東京都品川区大井４  ＪＲ京浜東北線/大井町駅 歩4分     京急本線/鮫洲駅 歩14分   \n",
       "\n",
       "                立地3  築年数    階数  物件階     家賃      管理費          敷金礼金    間取り  \\\n",
       "0   東急目黒線/不動前駅 歩13分    3   4階建   3階  87000  12000.0           -/-     1K   \n",
       "1   東急目黒線/不動前駅 歩13分    3   4階建   3階  97000  12000.0           -/-  ワンルーム   \n",
       "2   東急目黒線/不動前駅 歩13分    3   4階建   3階  97000  12000.0           -/-  ワンルーム   \n",
       "3  ＪＲ横須賀線/西大井駅 歩15分    8  14階建  14階  97000   8000.0   9.7万円/9.7万円     1K   \n",
       "4  ＪＲ横須賀線/西大井駅 歩15分    8  14階建  11階  98000   8000.0  19.6万円/9.8万円     1K   \n",
       "\n",
       "      面積  都県  市区      家賃合計   家賃単価（円/平米）  \n",
       "0  21.50  東京  品川   99000.0  4604.651163  \n",
       "1  21.50  東京  品川  109000.0  5069.767442  \n",
       "2  21.50  東京  品川  109000.0  5069.767442  \n",
       "3  21.75  東京  品川  105000.0  4827.586207  \n",
       "4  21.75  東京  品川  106000.0  4873.563218  "
      ]
     },
     "execution_count": 38,
     "metadata": {},
     "output_type": "execute_result"
    }
   ],
   "source": [
    "df.head()"
   ]
  },
  {
   "cell_type": "code",
   "execution_count": 24,
   "metadata": {},
   "outputs": [],
   "source": [
    "# 文字列を複数文字で split\n",
    "df['都県'] = df['住所'].apply(lambda x: re.split('[都県]', x)[0]) \n",
    "df['市区'] = df['住所'].apply(lambda x: re.split('[都県市区]', x)[1]) "
   ]
  },
  {
   "cell_type": "code",
   "execution_count": 25,
   "metadata": {},
   "outputs": [
    {
     "data": {
      "text/plain": [
       "array(['築3年', '築8年', '築1年', '築7年', '新築', '築2年', '築10年', '築6年', '築4年',\n",
       "       '築5年', '築9年', '築0年'], dtype=object)"
      ]
     },
     "execution_count": 25,
     "metadata": {},
     "output_type": "execute_result"
    }
   ],
   "source": [
    "df['築年数'].unique()"
   ]
  },
  {
   "cell_type": "code",
   "execution_count": 26,
   "metadata": {},
   "outputs": [],
   "source": [
    "df['築年数'] = df['築年数'].str.strip('築年')\n",
    "df['築年数'] = df['築年数'].str.replace('新', '0')\n",
    "df['築年数'] = pd.to_numeric(df['築年数'])"
   ]
  },
  {
   "cell_type": "code",
   "execution_count": 27,
   "metadata": {},
   "outputs": [
    {
     "data": {
      "text/plain": [
       "0"
      ]
     },
     "execution_count": 27,
     "metadata": {},
     "output_type": "execute_result"
    }
   ],
   "source": [
    "sum(df['家賃'].apply(lambda x: '万円' not in x))"
   ]
  },
  {
   "cell_type": "code",
   "execution_count": 28,
   "metadata": {},
   "outputs": [],
   "source": [
    "df['家賃'] = df['家賃'].str.replace('万円', '').apply(lambda x: int(float(x) * 10000))"
   ]
  },
  {
   "cell_type": "code",
   "execution_count": 29,
   "metadata": {},
   "outputs": [],
   "source": [
    "df['管理費'] = df['管理費'].str.replace('-', '')\n",
    "df['管理費'] = df['管理費'].str.replace('円', '')\n",
    "df['管理費'] = pd.to_numeric(df['管理費'], downcast='integer')\n",
    "df['管理費'] = df['管理費'].apply(lambda x: 0 if np.isnan(x) else x)"
   ]
  },
  {
   "cell_type": "code",
   "execution_count": 31,
   "metadata": {},
   "outputs": [
    {
     "data": {
      "text/plain": [
       "0"
      ]
     },
     "execution_count": 31,
     "metadata": {},
     "output_type": "execute_result"
    }
   ],
   "source": [
    "sum(df['面積'].apply(lambda x: 'm' not in x))"
   ]
  },
  {
   "cell_type": "code",
   "execution_count": 32,
   "metadata": {},
   "outputs": [],
   "source": [
    "df['面積'] = df['面積'].str.strip('m')\n",
    "df['面積'] = pd.to_numeric(df['面積'])"
   ]
  },
  {
   "cell_type": "code",
   "execution_count": 37,
   "metadata": {},
   "outputs": [],
   "source": [
    "df['家賃合計'] = df['家賃'] + df['管理費']\n",
    "df['家賃単価（円/平米）'] = df['家賃合計'] / df['面積']"
   ]
  },
  {
   "cell_type": "code",
   "execution_count": 39,
   "metadata": {},
   "outputs": [],
   "source": [
    "df.to_csv('data/suumo_tokyo_mod.csv')"
   ]
  },
  {
   "cell_type": "code",
   "execution_count": null,
   "metadata": {},
   "outputs": [],
   "source": []
  }
 ],
 "metadata": {
  "kernelspec": {
   "display_name": "Python 3",
   "language": "python",
   "name": "python3"
  },
  "language_info": {
   "codemirror_mode": {
    "name": "ipython",
    "version": 3
   },
   "file_extension": ".py",
   "mimetype": "text/x-python",
   "name": "python",
   "nbconvert_exporter": "python",
   "pygments_lexer": "ipython3",
   "version": "3.7.2"
  }
 },
 "nbformat": 4,
 "nbformat_minor": 2
}
